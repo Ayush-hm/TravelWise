{
 "cells": [
  {
   "cell_type": "code",
   "execution_count": 259,
   "metadata": {},
   "outputs": [],
   "source": [
    "import nltk\n",
    "from nltk.corpus import stopwords\n",
    "import random\n",
    "import json\n",
    "import requests"
   ]
  },
  {
   "cell_type": "code",
   "execution_count": 260,
   "metadata": {},
   "outputs": [],
   "source": [
    "query = input(\"Enter your query\")\n",
    "tokens=nltk.word_tokenize(query)"
   ]
  },
  {
   "attachments": {},
   "cell_type": "markdown",
   "metadata": {},
   "source": [
    "## Preprocessing"
   ]
  },
  {
   "cell_type": "code",
   "execution_count": 261,
   "metadata": {},
   "outputs": [],
   "source": [
    "stop_words = set(stopwords.words('english'))"
   ]
  },
  {
   "cell_type": "code",
   "execution_count": 262,
   "metadata": {},
   "outputs": [],
   "source": [
    "filtered_sentence = [w for w in tokens if not w.lower() in stop_words]\n",
    "#with no lower case conversion\n",
    "filtered_sentence = []\n",
    " \n",
    "for w in tokens:\n",
    "    if w not in stop_words:\n",
    "        filtered_sentence.append(w)"
   ]
  },
  {
   "cell_type": "code",
   "execution_count": 263,
   "metadata": {},
   "outputs": [
    {
     "data": {
      "text/plain": [
       "['Weather', 'Hyderabad']"
      ]
     },
     "execution_count": 263,
     "metadata": {},
     "output_type": "execute_result"
    }
   ],
   "source": [
    "filtered_sentence"
   ]
  },
  {
   "attachments": {},
   "cell_type": "markdown",
   "metadata": {},
   "source": [
    "## Greet Function"
   ]
  },
  {
   "cell_type": "code",
   "execution_count": 264,
   "metadata": {},
   "outputs": [],
   "source": [
    "greeting_words = json.loads(open('greeting.txt', 'r').read())\n",
    "def greet():\n",
    "    print(random.choice(greeting_words))"
   ]
  },
  {
   "attachments": {},
   "cell_type": "markdown",
   "metadata": {},
   "source": [
    "## Farewell Function"
   ]
  },
  {
   "cell_type": "code",
   "execution_count": 265,
   "metadata": {},
   "outputs": [],
   "source": [
    "farewell_words = json.loads(open('farewell.txt', 'r').read())\n",
    "def farewell():\n",
    "    print(random.choice(farewell_words))"
   ]
  },
  {
   "attachments": {},
   "cell_type": "markdown",
   "metadata": {},
   "source": [
    "## What can you do?"
   ]
  },
  {
   "cell_type": "code",
   "execution_count": 266,
   "metadata": {},
   "outputs": [],
   "source": [
    "def get_ability():\n",
    "    if (query.lower() == \"what can you do\"):\n",
    "        capable = '''\"I'm a travel chatbot designed to assist you with all things related to travel. Here's what I can do for you:\n",
    "\n",
    "    1. Destination recommendations: Let me know your preferences, and I can suggest popular travel destinations based on your interests, budget, and travel dates.\n",
    "\n",
    "    2. Flight and hotel search: I can help you find and compare flight options, check prices, and assist with hotel bookings for your desired destinations.\n",
    "\n",
    "    3. Travel planning: Need assistance with creating itineraries or planning your trip? I can provide suggestions for attractions, landmarks, and activities to include in your travel plans.\n",
    "\n",
    "    4. Local insights: Wondering about local customs, culture, or cuisine? I can offer insights and recommendations on local experiences to enhance your travel.\n",
    "\n",
    "    5. Travel tips and advice: Whether it's packing tips, visa requirements, or safety guidelines, I'm here to provide useful information and advice to make your trip smooth.\n",
    "\n",
    "    6. Weather updates: Curious about the weather conditions at your destination? I can provide real-time weather updates to help you prepare accordingly.\n",
    "\n",
    "    7. Currency conversion: Need to convert currencies? Just let me know the amount and the currencies involved, and I'll assist you with the latest exchange rates.\n",
    "\n",
    "    8. Language assistance: Traveling to a place with a different language? I can help with basic translations, common phrases, and language tips to facilitate communication.\n",
    "\n",
    "    9. Local transportation: Looking for transportation options within your destination? I can provide information on public transportation, car rentals, and other local transport services.\n",
    "\n",
    "    10. Travel inspiration: If you're looking for travel inspiration or want to explore new destinations, I can share travel stories, tips, and recommendations from fellow travelers.\n",
    "\n",
    "    Feel free to ask me anything travel-related, and I'll do my best to assist you in planning a memorable trip!\"'''\n",
    "        print(capable)"
   ]
  },
  {
   "attachments": {},
   "cell_type": "markdown",
   "metadata": {},
   "source": [
    "## Weather"
   ]
  },
  {
   "cell_type": "code",
   "execution_count": 267,
   "metadata": {},
   "outputs": [],
   "source": [
    "def get_weather():\n",
    "   CITY = tokens[-1]\n",
    "   BASE_URL = \"https://api.openweathermap.org/data/2.5/weather?\"\n",
    "   # City Name CITY = \"Hyderabad\"\n",
    "   # API key API_KEY = \"Your API Key\"\n",
    "   # upadting the URL\n",
    "   URL = BASE_URL + \"q=\" + CITY + \"&appid=\" + API_KEY\n",
    "   # HTTP request\n",
    "   response = requests.get(URL)\n",
    "   # checking the status code of the request\n",
    "   if response.status_code == 200:\n",
    "      # getting data in the json format\n",
    "      data = response.json()\n",
    "      # getting the main dict block\n",
    "      main = data['main']\n",
    "      # getting temperature\n",
    "      temperature = main['temp']\n",
    "      # getting the humidity\n",
    "      humidity = main['humidity']\n",
    "      # getting the pressure\n",
    "      pressure = main['pressure']\n",
    "      # weather report\n",
    "      report = data['weather']\n",
    "      print(f\"{CITY:-^30}\")\n",
    "      print(f\"Temperature: {temperature}\")\n",
    "      print(f\"Humidity: {humidity}\")\n",
    "      print(f\"Pressure: {pressure}\")\n",
    "      print(f\"Weather Report: {report[0]['description']}\")\n",
    "   else:\n",
    "      # showing the error message\n",
    "      print(\"Error in the HTTP request\")"
   ]
  },
  {
   "attachments": {},
   "cell_type": "markdown",
   "metadata": {},
   "source": [
    "## Intent Recognition"
   ]
  },
  {
   "cell_type": "code",
   "execution_count": 268,
   "metadata": {},
   "outputs": [
    {
     "name": "stdout",
     "output_type": "stream",
     "text": [
      "Intent: weather\n"
     ]
    }
   ],
   "source": [
    "import re\n",
    "\n",
    "def get_intent(user_input):\n",
    "    user_input = user_input.lower()\n",
    "\n",
    "    # Define patterns and corresponding intents\n",
    "    patterns = {\n",
    "        r\"(hello|hi|hey|howdy)\": \"greeting\",\n",
    "        r\"(?:what can you do\\??|(?:tell me your|what are your) abilit(?:y|ies))\": \"ability\",\n",
    "        r\"(bye|goodbye|see you)\": \"farewell\",\n",
    "        r\"(\\b(?:search|find)\\b.*)\": \"search\",\n",
    "        r\"(\\b(?:book|reserve)\\b.*)\": \"booking\",\n",
    "        r\"(\\b(?:weather|forecast|climate)\\b.*)\": \"weather\",\n",
    "        r\"(\\b(?:help|support)\\b.*)\": \"help\"\n",
    "    }\n",
    "\n",
    "    # Iterate over the patterns and check for matches\n",
    "    for pattern, intent in patterns.items():\n",
    "        if re.search(pattern, user_input):\n",
    "            return intent\n",
    "    \n",
    "    # If no match is found, assume it as a general inquiry intent\n",
    "    return \"inquiry\"\n",
    "\n",
    "# Test the intent recognition function\n",
    "intent = get_intent(query)\n",
    "print(\"Intent:\", intent)\n"
   ]
  },
  {
   "attachments": {},
   "cell_type": "markdown",
   "metadata": {},
   "source": [
    "## Conditional Function Invoke"
   ]
  },
  {
   "cell_type": "code",
   "execution_count": 269,
   "metadata": {},
   "outputs": [
    {
     "ename": "NameError",
     "evalue": "name 'API_KEY' is not defined",
     "output_type": "error",
     "traceback": [
      "\u001b[1;31m---------------------------------------------------------------------------\u001b[0m",
      "\u001b[1;31mNameError\u001b[0m                                 Traceback (most recent call last)",
      "\u001b[1;32md:\\Ayush\\Projects\\Travel Chatbot\\chatbot.ipynb Cell 18\u001b[0m in \u001b[0;36m5\n\u001b[0;32m      <a href='vscode-notebook-cell:/d%3A/Ayush/Projects/Travel%20Chatbot/chatbot.ipynb#X33sZmlsZQ%3D%3D?line=2'>3</a>\u001b[0m \u001b[39mcase\u001b[39;00m \u001b[39m\"\u001b[39m\u001b[39mability\u001b[39m\u001b[39m\"\u001b[39m: get_ability()\n\u001b[0;32m      <a href='vscode-notebook-cell:/d%3A/Ayush/Projects/Travel%20Chatbot/chatbot.ipynb#X33sZmlsZQ%3D%3D?line=3'>4</a>\u001b[0m \u001b[39mcase\u001b[39;00m \u001b[39m\"\u001b[39m\u001b[39mfarewell\u001b[39m\u001b[39m\"\u001b[39m: farewell()\n\u001b[1;32m----> <a href='vscode-notebook-cell:/d%3A/Ayush/Projects/Travel%20Chatbot/chatbot.ipynb#X33sZmlsZQ%3D%3D?line=4'>5</a>\u001b[0m \u001b[39mcase\u001b[39;00m \u001b[39m\"\u001b[39m\u001b[39mweather\u001b[39m\u001b[39m\"\u001b[39m: get_weather()\n\u001b[0;32m      <a href='vscode-notebook-cell:/d%3A/Ayush/Projects/Travel%20Chatbot/chatbot.ipynb#X33sZmlsZQ%3D%3D?line=5'>6</a>\u001b[0m \u001b[39mcase\u001b[39;00m \u001b[39m_\u001b[39;00m: greet()\n",
      "\u001b[1;32md:\\Ayush\\Projects\\Travel Chatbot\\chatbot.ipynb Cell 18\u001b[0m in \u001b[0;36m7\n\u001b[0;32m      <a href='vscode-notebook-cell:/d%3A/Ayush/Projects/Travel%20Chatbot/chatbot.ipynb#X33sZmlsZQ%3D%3D?line=2'>3</a>\u001b[0m BASE_URL \u001b[39m=\u001b[39m \u001b[39m\"\u001b[39m\u001b[39mhttps://api.openweathermap.org/data/2.5/weather?\u001b[39m\u001b[39m\"\u001b[39m\n\u001b[0;32m      <a href='vscode-notebook-cell:/d%3A/Ayush/Projects/Travel%20Chatbot/chatbot.ipynb#X33sZmlsZQ%3D%3D?line=3'>4</a>\u001b[0m \u001b[39m# City Name CITY = \"Hyderabad\"\u001b[39;00m\n\u001b[0;32m      <a href='vscode-notebook-cell:/d%3A/Ayush/Projects/Travel%20Chatbot/chatbot.ipynb#X33sZmlsZQ%3D%3D?line=4'>5</a>\u001b[0m \u001b[39m# API key API_KEY = \"Your API Key\"\u001b[39;00m\n\u001b[0;32m      <a href='vscode-notebook-cell:/d%3A/Ayush/Projects/Travel%20Chatbot/chatbot.ipynb#X33sZmlsZQ%3D%3D?line=5'>6</a>\u001b[0m \u001b[39m# upadting the URL\u001b[39;00m\n\u001b[1;32m----> <a href='vscode-notebook-cell:/d%3A/Ayush/Projects/Travel%20Chatbot/chatbot.ipynb#X33sZmlsZQ%3D%3D?line=6'>7</a>\u001b[0m URL \u001b[39m=\u001b[39m BASE_URL \u001b[39m+\u001b[39m \u001b[39m\"\u001b[39m\u001b[39mq=\u001b[39m\u001b[39m\"\u001b[39m \u001b[39m+\u001b[39m CITY \u001b[39m+\u001b[39m \u001b[39m\"\u001b[39m\u001b[39m&appid=\u001b[39m\u001b[39m\"\u001b[39m \u001b[39m+\u001b[39m API_KEY\n\u001b[0;32m      <a href='vscode-notebook-cell:/d%3A/Ayush/Projects/Travel%20Chatbot/chatbot.ipynb#X33sZmlsZQ%3D%3D?line=7'>8</a>\u001b[0m \u001b[39m# HTTP request\u001b[39;00m\n\u001b[0;32m      <a href='vscode-notebook-cell:/d%3A/Ayush/Projects/Travel%20Chatbot/chatbot.ipynb#X33sZmlsZQ%3D%3D?line=8'>9</a>\u001b[0m response \u001b[39m=\u001b[39m requests\u001b[39m.\u001b[39mget(URL)\n",
      "\u001b[1;31mNameError\u001b[0m: name 'API_KEY' is not defined"
     ]
    }
   ],
   "source": [
    "match intent:\n",
    "    case \"greeting\": greet()\n",
    "    case \"ability\": get_ability()\n",
    "    case \"farewell\": farewell()\n",
    "    case \"weather\": get_weather()\n",
    "    case _: greet()"
   ]
  }
 ],
 "metadata": {
  "kernelspec": {
   "display_name": "Python 3",
   "language": "python",
   "name": "python3"
  },
  "language_info": {
   "codemirror_mode": {
    "name": "ipython",
    "version": 3
   },
   "file_extension": ".py",
   "mimetype": "text/x-python",
   "name": "python",
   "nbconvert_exporter": "python",
   "pygments_lexer": "ipython3",
   "version": "3.10.8"
  },
  "orig_nbformat": 4
 },
 "nbformat": 4,
 "nbformat_minor": 2
}
