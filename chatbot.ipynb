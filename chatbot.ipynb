{
 "cells": [
  {
   "cell_type": "code",
   "execution_count": 1,
   "metadata": {},
   "outputs": [],
   "source": [
    "import nltk\n",
    "from nltk.corpus import stopwords\n",
    "import random\n",
    "import json\n",
    "import requests"
   ]
  },
  {
   "attachments": {},
   "cell_type": "markdown",
   "metadata": {},
   "source": [
    "## Preprocessing"
   ]
  },
  {
   "cell_type": "code",
   "execution_count": 2,
   "metadata": {},
   "outputs": [],
   "source": [
    "def preprocessing(query):\n",
    "    tokens=nltk.word_tokenize(query)\n",
    "    stop_words = set(stopwords.words('english'))\n",
    "    filtered_sentence = [w for w in tokens if not w.lower() in stop_words]\n",
    "    #with no lower case conversion\n",
    "    filtered_sentence = []\n",
    "    \n",
    "    for w in tokens:\n",
    "        if w not in stop_words:\n",
    "            filtered_sentence.append(w)\n",
    "    \n",
    "    print(filtered_sentence)"
   ]
  },
  {
   "attachments": {},
   "cell_type": "markdown",
   "metadata": {},
   "source": [
    "## Greet Function"
   ]
  },
  {
   "cell_type": "code",
   "execution_count": 3,
   "metadata": {},
   "outputs": [],
   "source": [
    "greeting_words = json.loads(open('greeting.txt', 'r').read())\n",
    "def greet():\n",
    "    print(random.choice(greeting_words))"
   ]
  },
  {
   "attachments": {},
   "cell_type": "markdown",
   "metadata": {},
   "source": [
    "## Farewell Function"
   ]
  },
  {
   "cell_type": "code",
   "execution_count": 4,
   "metadata": {},
   "outputs": [],
   "source": [
    "farewell_words = json.loads(open('farewell.txt', 'r').read())\n",
    "def farewell():\n",
    "    print(random.choice(farewell_words))"
   ]
  },
  {
   "attachments": {},
   "cell_type": "markdown",
   "metadata": {},
   "source": [
    "## Intent Recognition"
   ]
  },
  {
   "cell_type": "code",
   "execution_count": 7,
   "metadata": {},
   "outputs": [
    {
     "name": "stdout",
     "output_type": "stream",
     "text": [
      "Intent: weather\n"
     ]
    }
   ],
   "source": [
    "from intent import get_intent\n",
    "query = input(\"Enter your query: \")\n",
    "tokens = nltk.word_tokenize(query)\n",
    "intent = get_intent(query)\n",
    "print(\"Intent:\", intent)"
   ]
  },
  {
   "attachments": {},
   "cell_type": "markdown",
   "metadata": {},
   "source": [
    "## Conditional Function Invoke"
   ]
  },
  {
   "cell_type": "code",
   "execution_count": 8,
   "metadata": {},
   "outputs": [
    {
     "name": "stdout",
     "output_type": "stream",
     "text": [
      "----------Hyderabad-----------\n",
      "Temperature: 26\n",
      "Feels Like: 26\n",
      "Minimum Temperature: 26\n",
      "Maximum Temperature: 28\n",
      "Humidity: 44\n",
      "Wind Speed: 6.17\n",
      "Percentage of cloud cover: 40\n"
     ]
    }
   ],
   "source": [
    "from weather import get_weather\n",
    "from ability import get_ability\n",
    "match intent:\n",
    "    case \"greeting\": greet()\n",
    "    case \"ability\": get_ability(query=query)\n",
    "    case \"farewell\": farewell()\n",
    "    case \"weather\": get_weather(tokens=tokens)\n",
    "    # case \"destination\": get_destination_recommendations()\n",
    "    case _: greet()"
   ]
  }
 ],
 "metadata": {
  "kernelspec": {
   "display_name": "Python 3",
   "language": "python",
   "name": "python3"
  },
  "language_info": {
   "codemirror_mode": {
    "name": "ipython",
    "version": 3
   },
   "file_extension": ".py",
   "mimetype": "text/x-python",
   "name": "python",
   "nbconvert_exporter": "python",
   "pygments_lexer": "ipython3",
   "version": "3.10.8"
  },
  "orig_nbformat": 4
 },
 "nbformat": 4,
 "nbformat_minor": 2
}
